{
 "cells": [
  {
   "cell_type": "code",
   "execution_count": 12,
   "metadata": {},
   "outputs": [],
   "source": [
    "import numpy as np\n",
    "import pandas as pd\n",
    "from keras.models import load_model\n",
    "from keras.preprocessing.image import ImageDataGenerator\n",
    "from skimage import morphology, io, exposure, img_as_float, transform,filters\n",
    "from matplotlib import pyplot as plt\n",
    "import cv2\n",
    "import os\n",
    "%matplotlib inline"
   ]
  },
  {
   "cell_type": "code",
   "execution_count": 13,
   "metadata": {},
   "outputs": [],
   "source": [
    "root = 'C:\\\\Users\\\\arnav\\\\Documents\\\\Arnav\\\\Research-IITR\\\\CovidX_Github_dataset\\\\data'\n",
    "os.chdir(root)"
   ]
  },
  {
   "cell_type": "code",
   "execution_count": 14,
   "metadata": {},
   "outputs": [],
   "source": [
    "def preProcess(original,kernel = 'hist'):\n",
    "  if kernel == 'hist':\n",
    "    enhanced = cv2.equalizeHist(original)\n",
    "  else:\n",
    "    clahe = cv2.createCLAHE(clipLimit=4.0, tileGridSize=(8,8))\n",
    "    enhanced = clahe.apply(original)\n",
    "  return enhanced"
   ]
  },
  {
   "cell_type": "code",
   "execution_count": 15,
   "metadata": {},
   "outputs": [],
   "source": [
    "def loadData(processed):\n",
    "  normalized = cv2.normalize(processed.astype('float'), None, 0.0, 1.0, cv2.NORM_MINMAX)\n",
    "  img = np.expand_dims(normalized, -1)\n",
    "  X = [img]\n",
    "  X = np.array(X)\n",
    "  X -= X.mean()\n",
    "  X /= X.std()\n",
    "  return X"
   ]
  },
  {
   "cell_type": "code",
   "execution_count": 16,
   "metadata": {},
   "outputs": [],
   "source": [
    "def getMask(img):\n",
    "  img = img > 0.5\n",
    "  size = 0.02 * np.prod((256,256))\n",
    "  img = morphology.remove_small_objects(img, size)\n",
    "  img = morphology.remove_small_holes(img, size)\n",
    "  img = morphology.dilation(img,morphology.square(3))\n",
    "  img = filters.gaussian(img)\n",
    "  mask = img > 0.5\n",
    "  return mask"
   ]
  },
  {
   "cell_type": "code",
   "execution_count": 17,
   "metadata": {},
   "outputs": [],
   "source": [
    "def masked(img, mask):\n",
    "  lungs = np.copy(img)\n",
    "  lungs[~mask] = 1\n",
    "  return lungs"
   ]
  },
  {
   "cell_type": "code",
   "execution_count": 18,
   "metadata": {},
   "outputs": [],
   "source": [
    "def getLungs(processed,UNet):\n",
    "  shape = (256,256)\n",
    "  X = loadData(processed)\n",
    "  detected = UNet.predict(X)[...,0].reshape(shape)\n",
    "  mask = getMask(detected)\n",
    "  lungs = masked(processed, mask)\n",
    "  return lungs,mask"
   ]
  },
  {
   "cell_type": "code",
   "execution_count": 19,
   "metadata": {},
   "outputs": [],
   "source": [
    "def Visualize(original,processed,masks,lungs,kernel):\n",
    "  plt.clf()\n",
    "  #overlay = cv2.addWeighted(processed,0.6,lungs,0.5,0)\n",
    "  n = len(original)\n",
    "  plt.figure(figsize=(12,3*n))      \n",
    "    \n",
    "  for i in range(n):\n",
    "    plt.subplot(n,4,i*4+1), plt.imshow(original[i],cmap='gray'),plt.title('Original')\n",
    "    plt.xticks([]), plt.yticks([])\n",
    "    plt.subplot(n,4,i*4+2), plt.imshow(processed[i],cmap='gray'),plt.title('Processed')\n",
    "    plt.xticks([]), plt.yticks([])\n",
    "    plt.subplot(n,4,i*4+3), plt.imshow(masks[i],cmap='gray'),plt.title('Mask')\n",
    "    plt.xticks([]), plt.yticks([])\n",
    "    plt.subplot(n,4,i*4+4), plt.imshow(lungs[i],cmap='gray'),plt.title('Lungs')\n",
    "    plt.xticks([]), plt.yticks([])\n",
    "  plt.savefig(root+'/'+kernel+'_'+'.png',dpi=500,bbox_inches='tight')    \n",
    "  plt.show()"
   ]
  },
  {
   "cell_type": "code",
   "execution_count": 20,
   "metadata": {},
   "outputs": [
    {
     "name": "stdout",
     "output_type": "stream",
     "text": [
      "WARNING:tensorflow:Error in loading the saved optimizer state. As a result, your model is starting with a freshly initialized optimizer.\n"
     ]
    }
   ],
   "source": [
    "#POS\n",
    "dirlist = os.listdir('sampled_positive/')\n",
    "# dirlist = 'C:\\\\Users\\\\arnav\\\\Documents\\\\Arnav\\\\Research-IITR\\\\CovidX_Github_dataset\\\\data\\\\train_split\\\\positive\\\\10.1016-slash-j.anl.2020.04.002-a.png'\n",
    "model_name = 'mask/trained_model.hdf5'\n",
    "UNet = load_model(model_name)  "
   ]
  },
  {
   "cell_type": "code",
   "execution_count": 21,
   "metadata": {},
   "outputs": [],
   "source": [
    "# #NEG\n",
    "# neg_dirlist = os.listdir('test_split/100_neg')\n",
    "# # dirlist = 'C:\\\\Users\\\\arnav\\\\Documents\\\\Arnav\\\\Research-IITR\\\\CovidX_Github_dataset\\\\data\\\\train_split\\\\positive\\\\10.1016-slash-j.anl.2020.04.002-a.png'\n",
    "# model_name = 'mask/trained_model.hdf5'\n",
    "# UNet = load_model(model_name)  "
   ]
  },
  {
   "cell_type": "code",
   "execution_count": 22,
   "metadata": {},
   "outputs": [],
   "source": [
    "#FOR POSITIVE IMAGES\n",
    "original_ls = []\n",
    "processed_ls = []\n",
    "lungs_ls =[]\n",
    "mask_ls= []\n",
    "kernel = 'hist'\n",
    "quality = 'low'   # low | medium | high\n",
    "files = [f for f in dirlist]\n",
    "\n",
    "for i in files:\n",
    "  original = cv2.imread('sampled_positive/'+i,cv2.IMREAD_GRAYSCALE)\n",
    "  shape = (256,256)\n",
    "  resized = cv2.resize(original,shape,interpolation = cv2.INTER_AREA)\n",
    "  processed = preProcess(resized,kernel)\n",
    "  lungs,mask = getLungs(processed,UNet)\n",
    "  original_ls.append(resized)\n",
    "  processed_ls.append(processed)  \n",
    "  lungs_ls.append(lungs)\n",
    "  mask_ls.append(mask)\n",
    "  cv2.imwrite('masked_images\\\\positive'+'\\\\'+i+'.png', lungs)\n",
    "  # cv2.imshow('image', lungs)\n",
    "  # cv2.waitKey(0)\n",
    "  # cv2.destroyAllWindows()\n",
    "\n",
    "# Visualize(original_ls,processed_ls,mask_ls,lungs_ls,kernel)"
   ]
  },
  {
   "cell_type": "code",
   "execution_count": 23,
   "metadata": {},
   "outputs": [],
   "source": [
    "# #FOR NEGATIVE IMAGES\n",
    "# original_ls = []\n",
    "# processed_ls = []\n",
    "# lungs_ls =[]\n",
    "# mask_ls= []\n",
    "# kernel = 'hist'\n",
    "# quality = 'low'   # low | medium | high\n",
    "# files = [f for f in neg_dirlist]\n",
    "\n",
    "# for i in files:\n",
    "#   original = cv2.imread('test_split/100_neg/'+i,cv2.IMREAD_GRAYSCALE)\n",
    "#   shape = (256,256)\n",
    "#   resized = cv2.resize(original,shape,interpolation = cv2.INTER_AREA)\n",
    "#   processed = preProcess(resized,kernel)\n",
    "#   lungs,mask = getLungs(processed,UNet)\n",
    "#   original_ls.append(resized)\n",
    "#   processed_ls.append(processed)  \n",
    "#   lungs_ls.append(lungs)\n",
    "#   mask_ls.append(mask)\n",
    "#   cv2.imwrite('mask\\\\test\\\\neg_mask'+'\\\\'+i+'.png', lungs)\n",
    "#   # cv2.imshow('image', lungs)\n",
    "#   # cv2.waitKey(0)\n",
    "#   # cv2.destroyAllWindows()\n",
    "\n",
    "# # Visualize(original_ls,processed_ls,mask_ls,lungs_ls,kernel)"
   ]
  },
  {
   "cell_type": "code",
   "execution_count": 24,
   "metadata": {},
   "outputs": [],
   "source": [
    "cv2.imshow('image', original)\n",
    "cv2.waitKey(0)\n",
    "cv2.destroyAllWindows()"
   ]
  }
 ],
 "metadata": {
  "interpreter": {
   "hash": "6f9a49f1d600a10354e362afbc6f477ed4542a914b64ffa3b858051b01965c25"
  },
  "kernelspec": {
   "display_name": "Python 3.8.10 64-bit (windows store)",
   "language": "python",
   "name": "python3"
  },
  "language_info": {
   "codemirror_mode": {
    "name": "ipython",
    "version": 3
   },
   "file_extension": ".py",
   "mimetype": "text/x-python",
   "name": "python",
   "nbconvert_exporter": "python",
   "pygments_lexer": "ipython3",
   "version": "3.8.10"
  },
  "orig_nbformat": 4
 },
 "nbformat": 4,
 "nbformat_minor": 2
}
