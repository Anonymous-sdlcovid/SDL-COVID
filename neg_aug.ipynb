{
 "cells": [
  {
   "cell_type": "markdown",
   "metadata": {},
   "source": [
    "# Random 300 tilting/skew, random 300 scaling/change aspect ratio, random 300 cropping, random 300 change contrast, so total 'unique' images will then be 3000+ as some images may overlap in augmentation"
   ]
  },
  {
   "cell_type": "code",
   "execution_count": 1,
   "metadata": {},
   "outputs": [],
   "source": [
    "import os, random, shutil, cv2, numpy as np\n",
    "from PIL import Image, ImageEnhance"
   ]
  },
  {
   "cell_type": "code",
   "execution_count": 2,
   "metadata": {},
   "outputs": [],
   "source": [
    "neg_root = 'C:/Users/arnav/Documents/Arnav/Research-IITR/CovidX_Github_dataset/data/equalized_sampled_negative'\n",
    "neg_aug = 'C:/Users/arnav/Documents/Arnav/Research-IITR/CovidX_Github_dataset/data/augmented_data/negative_aug_data'"
   ]
  },
  {
   "cell_type": "code",
   "execution_count": 3,
   "metadata": {},
   "outputs": [],
   "source": [
    "def convert(img,mode):\n",
    "  if mode == 'cv2pil':\n",
    "    img = cv2.cvtColor(img, cv2.COLOR_BGR2RGB)\n",
    "    img = Image.fromarray(img)\n",
    "  else:\n",
    "    img = np.asarray(img,dtype=np.uint8)\n",
    "  return img"
   ]
  },
  {
   "cell_type": "code",
   "execution_count": 4,
   "metadata": {},
   "outputs": [],
   "source": [
    "#function to rotate image by specified number of deg.\n",
    "def rotate_image(image, angle):\n",
    "    image_center = tuple(np.array(image.shape[1::-1]) / 2)\n",
    "    rot_mat = cv2.getRotationMatrix2D(image_center, angle, 1.0)\n",
    "    result = cv2.warpAffine(image, rot_mat, image.shape[1::-1], flags=cv2.INTER_LINEAR)\n",
    "    # shutil.copy2(neg_aug + image +'.jpg', result)\n",
    "    return result"
   ]
  },
  {
   "cell_type": "code",
   "execution_count": 5,
   "metadata": {},
   "outputs": [],
   "source": [
    "#function to change scale and aspect ratio \n",
    "def scale_image(image):\n",
    "    width = 350\n",
    "    height = 450\n",
    "    dim = (width, height)\n",
    "    resized = cv2.resize(image, dim, interpolation = cv2.INTER_LINEAR)\n",
    "    return resized\n",
    " "
   ]
  },
  {
   "cell_type": "code",
   "execution_count": 6,
   "metadata": {},
   "outputs": [],
   "source": [
    "#function to increase image contrast\n",
    "def contrast_image(image):\n",
    "    enhancer = ImageEnhance.Contrast(image)\n",
    "    factor = 2\n",
    "    output_image = enhancer.enhance(factor)\n",
    "    # output_image = convert(output_image, 'pil2cv')\n",
    "    return output_image\n"
   ]
  },
  {
   "cell_type": "code",
   "execution_count": 7,
   "metadata": {},
   "outputs": [],
   "source": [
    "def crop_image(image):\n",
    "    y=50\n",
    "    x=50\n",
    "    h=200\n",
    "    w=200\n",
    "    crop = image[y:y+h, x:x+w]\n",
    "    return crop"
   ]
  },
  {
   "cell_type": "code",
   "execution_count": 8,
   "metadata": {},
   "outputs": [],
   "source": [
    "#choose 300 random images and apply tilt/skew augmentation to them\n",
    "seed=1\n",
    "random.seed(seed)\n",
    "list_all = os.listdir(neg_root)\n",
    "rand_file = random.sample(list_all,300)\n",
    "# print(rand_file)\n",
    "\n",
    "for file in rand_file:\n",
    "# for file in os.listdir(neg_root):\n",
    "    image = os.path.join(neg_root, file)\n",
    "    # print(file) \n",
    "\n",
    "    if os.path.isfile(image):\n",
    "        imagecv2 = cv2.imread(image)\n",
    "        # imagecv2 = cv2.resize(imagecv2, (244,244))\n",
    "        imagecv2 = cv2.cvtColor(imagecv2, cv2.COLOR_BGR2GRAY)\n",
    "        imagecv2 = rotate_image(imagecv2, 45)\n",
    "\n",
    "        try:\n",
    "            os.chdir(neg_aug)\n",
    "            cv2.imwrite('rotated_'+file, imagecv2)\n",
    "        except:\n",
    "            print(file)"
   ]
  },
  {
   "cell_type": "code",
   "execution_count": 9,
   "metadata": {},
   "outputs": [],
   "source": [
    "#choose 300 random images and change scale and aspect ratio\n",
    "seed=2\n",
    "random.seed(seed)\n",
    "list_all = os.listdir(neg_root)\n",
    "rand_file = random.sample(list_all,300)\n",
    "# print(rand_file)\n",
    "\n",
    "for file in rand_file:\n",
    "# for file in os.listdir(neg_root):\n",
    "    image = os.path.join(neg_root, file)\n",
    "    # print(file) \n",
    "\n",
    "    if os.path.isfile(image):\n",
    "        imagecv2 = cv2.imread(image)\n",
    "        # imagecv2 = cv2.resize(imagecv2, (244,244))\n",
    "        imagecv2 = cv2.cvtColor(imagecv2, cv2.COLOR_BGR2GRAY)\n",
    "        imagecv2 = scale_image(imagecv2)\n",
    "\n",
    "        try:\n",
    "            os.chdir(neg_aug)\n",
    "            cv2.imwrite('scaled_'+file, imagecv2)\n",
    "        except:\n",
    "            print(file)"
   ]
  },
  {
   "cell_type": "code",
   "execution_count": 10,
   "metadata": {},
   "outputs": [],
   "source": [
    "#choose 300 random images and increase contrast\n",
    "seed=3\n",
    "random.seed(seed)\n",
    "list_all = os.listdir(neg_root)\n",
    "rand_file = random.sample(list_all,300)\n",
    "# print(rand_file)\n",
    "\n",
    "for file in rand_file:\n",
    "# for file in os.listdir(neg_root):\n",
    "    image = os.path.join(neg_root, file)\n",
    "    # print(file) \n",
    "\n",
    "    if os.path.isfile(image):\n",
    "        imagePIL = Image.open(image)\n",
    "        contrast_image(imagePIL)\n",
    "        \n",
    "        try:\n",
    "            os.chdir(neg_aug)\n",
    "            imagePIL.save('contrasted_'+file)\n",
    "        except:\n",
    "            print(file)"
   ]
  },
  {
   "cell_type": "code",
   "execution_count": 11,
   "metadata": {},
   "outputs": [],
   "source": [
    "#choose 300 random images and apply tilt/skew augmentation to them\n",
    "seed=4\n",
    "random.seed(seed)\n",
    "list_all = os.listdir(neg_root)\n",
    "rand_file = random.sample(list_all,300)\n",
    "# print(rand_file)\n",
    "\n",
    "for file in rand_file:\n",
    "# for file in os.listdir(neg_root):\n",
    "    image = os.path.join(neg_root, file)\n",
    "    # print(file) \n",
    "\n",
    "    if os.path.isfile(image):\n",
    "        imagecv2 = cv2.imread(image)\n",
    "        # imagecv2 = cv2.resize(imagecv2, (244,244))\n",
    "        imagecv2 = cv2.cvtColor(imagecv2, cv2.COLOR_BGR2GRAY)\n",
    "        imagecv2 = crop_image(imagecv2)\n",
    "\n",
    "        try:\n",
    "            os.chdir(neg_aug)\n",
    "            cv2.imwrite('cropped_'+file, imagecv2)\n",
    "        except:\n",
    "            print(file)"
   ]
  }
 ],
 "metadata": {
  "interpreter": {
   "hash": "979b55c147b5b0750dbdb229e0c0c525dbd114a79e8075ba2c933c93bc2a068a"
  },
  "kernelspec": {
   "display_name": "Python 3.9.5 64-bit",
   "language": "python",
   "name": "python3"
  },
  "language_info": {
   "codemirror_mode": {
    "name": "ipython",
    "version": 3
   },
   "file_extension": ".py",
   "mimetype": "text/x-python",
   "name": "python",
   "nbconvert_exporter": "python",
   "pygments_lexer": "ipython3",
   "version": "3.8.10"
  },
  "orig_nbformat": 4
 },
 "nbformat": 4,
 "nbformat_minor": 2
}
