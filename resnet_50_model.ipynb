{
 "cells": [
  {
   "cell_type": "code",
   "execution_count": 1,
   "metadata": {},
   "outputs": [],
   "source": [
    "import os\n",
    "import cv2\n",
    "import glob\n",
    "import torch\n",
    "import shutil\n",
    "import time\n",
    "import copy\n",
    "import itertools\n",
    "import torch.nn as nn\n",
    "import torch.optim as optim\n",
    "import numpy as np # linear algebra\n",
    "import pandas as pd # data processing, CSV file I/O (e.g. pd.read_csv)\n",
    "import matplotlib.pyplot as plt\n",
    "import sklearn\n",
    "from sklearn.metrics import precision_score, recall_score, f1_score, confusion_matrix\n",
    "from pathlib import Path\n",
    "from torch.nn import functional as F\n",
    "from torch.optim import lr_scheduler\n",
    "from torchvision import datasets, models, transforms\n",
    "from PIL import Image"
   ]
  },
  {
   "cell_type": "code",
   "execution_count": 2,
   "metadata": {},
   "outputs": [],
   "source": [
    "# #FOR NORMAL IMAGES\n",
    "# positive_path = 'C:\\\\Users\\\\arnav\\\\Documents\\\\Arnav\\\\Research-IITR\\\\CovidX_Github_dataset\\\\data\\\\equalized_sampled_positive\\\\'\n",
    "# negative_path = 'C:\\\\Users\\\\arnav\\\\Documents\\\\Arnav\\\\Research-IITR\\\\CovidX_Github_dataset\\\\data\\\\equalized_sampled_negative\\\\'"
   ]
  },
  {
   "cell_type": "code",
   "execution_count": 3,
   "metadata": {},
   "outputs": [],
   "source": [
    "#FOR NORMAL W/AUG IMAGES\n",
    "positive_path = 'C:\\\\Users\\\\arnav\\\\Documents\\\\Arnav\\\\Research-IITR\\\\CovidX_Github_dataset\\\\data\\\\120aug_equalized_sampled_positive\\\\'\n",
    "negative_path = 'C:\\\\Users\\\\arnav\\\\Documents\\\\Arnav\\\\Research-IITR\\\\CovidX_Github_dataset\\\\data\\\\120aug_equalized_sampled_negative\\\\'"
   ]
  },
  {
   "cell_type": "code",
   "execution_count": 4,
   "metadata": {},
   "outputs": [],
   "source": [
    "# #FOR MASKED IMAGES\n",
    "# positive_path = 'C:\\\\Users\\\\arnav\\\\Documents\\\\Arnav\\\\Research-IITR\\\\CovidX_Github_dataset\\\\data\\\\masked_images\\\\positive\\\\'\n",
    "# negative_path = 'C:\\\\Users\\\\arnav\\\\Documents\\\\Arnav\\\\Research-IITR\\\\CovidX_Github_dataset\\\\data\\\\masked_images\\\\negative\\\\'"
   ]
  },
  {
   "cell_type": "code",
   "execution_count": 5,
   "metadata": {},
   "outputs": [
    {
     "data": {
      "text/plain": [
       "True"
      ]
     },
     "execution_count": 5,
     "metadata": {},
     "output_type": "execute_result"
    }
   ],
   "source": [
    "os.path.exists(negative_path)"
   ]
  },
  {
   "cell_type": "code",
   "execution_count": 6,
   "metadata": {},
   "outputs": [],
   "source": [
    "# os.mkdir('C:\\\\Users\\\\arnav\\\\Documents\\\\Arnav\\\\Research-IITR\\\\CovidX_Github_dataset\\\\data\\\\resnet50_model_data\\\\working\\\\train')\n",
    "# os.mkdir('C:\\\\Users\\\\arnav\\\\Documents\\\\Arnav\\\\Research-IITR\\\\CovidX_Github_dataset\\\\data\\\\resnet50_model_data/working/test')\n",
    "\n",
    "# os.mkdir('C:\\\\Users\\\\arnav\\\\Documents\\\\Arnav\\\\Research-IITR\\\\CovidX_Github_dataset\\\\data\\\\resnet50_model_data/working/train/positive')\n",
    "# os.mkdir('C:\\\\Users\\\\arnav\\\\Documents\\\\Arnav\\\\Research-IITR\\\\CovidX_Github_dataset\\\\data\\\\resnet50_model_data/working/test/positive')\n",
    "\n",
    "# os.mkdir('C:\\\\Users\\\\arnav\\\\Documents\\\\Arnav\\\\Research-IITR\\\\CovidX_Github_dataset\\\\data\\\\resnet50_model_data/working/train/negative')\n",
    "# os.mkdir('C:\\\\Users\\\\arnav\\\\Documents\\\\Arnav\\\\Research-IITR\\\\CovidX_Github_dataset\\\\data\\\\resnet50_model_data/working/test/negative')"
   ]
  },
  {
   "cell_type": "code",
   "execution_count": 7,
   "metadata": {},
   "outputs": [],
   "source": [
    "positive_train_len = int(np.floor(len(os.listdir(positive_path))*0.8))\n",
    "positive_len = len(os.listdir(positive_path))\n",
    "\n",
    "negative_train_len = int(np.floor(len(os.listdir(negative_path))*0.8))\n",
    "negative_len = len(os.listdir(negative_path))"
   ]
  },
  {
   "cell_type": "code",
   "execution_count": 8,
   "metadata": {},
   "outputs": [],
   "source": [
    "for file in os.scandir('C:\\\\Users\\\\arnav\\\\Documents\\\\Arnav\\\\Research-IITR\\\\CovidX_Github_dataset\\\\data\\\\equalized_data_model/working/train/positive'):\n",
    "    os.remove(file.path)\n",
    "for trainimg in itertools.islice(glob.iglob(os.path.join(positive_path, '*.png')), positive_train_len):\n",
    "    shutil.copy(trainimg, 'C:\\\\Users\\\\arnav\\\\Documents\\\\Arnav\\\\Research-IITR\\\\CovidX_Github_dataset\\\\data\\\\equalized_data_model/working/train/positive')\n",
    "    \n",
    "for file in os.scandir('C:\\\\Users\\\\arnav\\\\Documents\\\\Arnav\\\\Research-IITR\\\\CovidX_Github_dataset\\\\data\\\\equalized_data_model/working/train/negative'):\n",
    "    os.remove(file.path)\n",
    "for trainimg in itertools.islice(glob.iglob(os.path.join(negative_path, '*.png')), negative_train_len):\n",
    "    shutil.copy(trainimg, 'C:\\\\Users\\\\arnav\\\\Documents\\\\Arnav\\\\Research-IITR\\\\CovidX_Github_dataset\\\\data\\\\equalized_data_model/working/train/negative')\n",
    "\n",
    "for file in os.scandir('C:\\\\Users\\\\arnav\\\\Documents\\\\Arnav\\\\Research-IITR\\\\CovidX_Github_dataset\\\\data\\\\equalized_data_model/working/test/positive'):\n",
    "    os.remove(file.path)\n",
    "for testimg in itertools.islice(glob.iglob(os.path.join(positive_path, '*.png')), positive_train_len, positive_len):\n",
    "    shutil.copy(testimg, 'C:\\\\Users\\\\arnav\\\\Documents\\\\Arnav\\\\Research-IITR\\\\CovidX_Github_dataset\\\\data\\\\equalized_data_model/working/test/positive')\n",
    "\n",
    "for file in os.scandir('C:\\\\Users\\\\arnav\\\\Documents\\\\Arnav\\\\Research-IITR\\\\CovidX_Github_dataset\\\\data\\\\equalized_data_model/working/test/negative'):\n",
    "    os.remove(file.path)\n",
    "for testimg in itertools.islice(glob.iglob(os.path.join(negative_path, '*.png')), negative_train_len, negative_len):\n",
    "    shutil.copy(testimg, 'C:\\\\Users\\\\arnav\\\\Documents\\\\Arnav\\\\Research-IITR\\\\CovidX_Github_dataset\\\\data\\\\equalized_data_model/working/test/negative')"
   ]
  },
  {
   "cell_type": "code",
   "execution_count": 9,
   "metadata": {},
   "outputs": [],
   "source": [
    "normalizer = transforms.Normalize(mean=[0.5, 0.5, 0.5], std=[0.25, 0.25, 0.25])\n",
    "\n",
    "data_transforms = {\n",
    "    'train': transforms.Compose([\n",
    "        transforms.Resize((244, 244)),\n",
    "        transforms.ColorJitter(),\n",
    "        transforms.ToTensor(),\n",
    "        normalizer\n",
    "    ]),\n",
    "    \n",
    "    'validation': transforms.Compose([\n",
    "        transforms.Resize((244, 244)),\n",
    "        transforms.ToTensor(),\n",
    "        normalizer\n",
    "    ]),\n",
    "\n",
    "    'test': transforms.Compose([\n",
    "        transforms.Resize((299, 299)),\n",
    "        transforms.ToTensor(),\n",
    "        normalizer\n",
    "    ])\n",
    "}"
   ]
  },
  {
   "cell_type": "code",
   "execution_count": 10,
   "metadata": {},
   "outputs": [],
   "source": [
    "data_images = {\n",
    "    'train': datasets.ImageFolder('C:\\\\Users\\\\arnav\\\\Documents\\\\Arnav\\\\Research-IITR\\\\CovidX_Github_dataset\\\\data/equalized_data_model/working/train', data_transforms['train']),\n",
    "    'validation': datasets.ImageFolder('C:\\\\Users\\\\arnav\\\\Documents\\\\Arnav\\\\Research-IITR\\\\CovidX_Github_dataset\\\\data/equalized_data_model/working/val', data_transforms['validation']),\n",
    "    'test': datasets.ImageFolder('C:\\\\Users\\\\arnav\\\\Documents\\\\Arnav\\\\Research-IITR\\\\CovidX_Github_dataset\\\\data/equalized_data_model/working/test', data_transforms['test'])\n",
    "}"
   ]
  },
  {
   "cell_type": "code",
   "execution_count": 11,
   "metadata": {},
   "outputs": [],
   "source": [
    "dataloaders = {\n",
    "    'train': torch.utils.data.DataLoader(data_images['train'], batch_size=32, shuffle=True, num_workers=0),\n",
    "    'validation': torch.utils.data.DataLoader(data_images['validation'], batch_size=32,shuffle=True,num_workers=0),\n",
    "    'test': torch.utils.data.DataLoader(data_images['test'], batch_size=32,shuffle=True,num_workers=0)\n",
    "}"
   ]
  },
  {
   "cell_type": "code",
   "execution_count": 12,
   "metadata": {},
   "outputs": [
    {
     "data": {
      "text/plain": [
       "'NVIDIA GeForce GTX 1660 Ti'"
      ]
     },
     "execution_count": 12,
     "metadata": {},
     "output_type": "execute_result"
    }
   ],
   "source": [
    "device_id = 0\n",
    "torch.cuda.device_count()\n",
    "torch.cuda.get_device_name(device_id)\n",
    "# print(device_id)"
   ]
  },
  {
   "cell_type": "code",
   "execution_count": 13,
   "metadata": {},
   "outputs": [],
   "source": [
    "device = torch.device(\"cuda:0\" if torch.cuda.is_available() else \"cpu\")\n",
    "model = models.resnet50(pretrained=True)\n",
    "if torch.cuda.is_available():\n",
    "    model.cuda()"
   ]
  },
  {
   "cell_type": "code",
   "execution_count": 14,
   "metadata": {},
   "outputs": [],
   "source": [
    "for param in model.parameters():\n",
    "    param.requires_grad = False"
   ]
  },
  {
   "cell_type": "code",
   "execution_count": 15,
   "metadata": {},
   "outputs": [],
   "source": [
    "model.fc = nn.Sequential(\n",
    "    nn.Linear(2048, 64),\n",
    "    nn.ReLU(inplace=True),\n",
    "    nn.Linear(64, 3)\n",
    ").to(device)"
   ]
  },
  {
   "cell_type": "code",
   "execution_count": 16,
   "metadata": {},
   "outputs": [],
   "source": [
    "criterion = nn.CrossEntropyLoss()\n",
    "optimizer = optim.Adam(model.fc.parameters())"
   ]
  },
  {
   "cell_type": "code",
   "execution_count": 17,
   "metadata": {},
   "outputs": [],
   "source": [
    "def trained_model(model, criterion, optimizer, epochs):\n",
    "    since = time.time()\n",
    "\n",
    "    best_acc = 0.0\n",
    "    best_precision = 0.0\n",
    "    best_recall = 0.0\n",
    "    best_f1 = 0.0\n",
    "\n",
    "    for epoch in range(epochs):\n",
    "        \n",
    "        print('Epoch:', str(epoch+1) + '/' + str(epochs))\n",
    "        print('-'*10)\n",
    "        \n",
    "        for phase in ['train', 'test']:\n",
    "            if phase == 'train':\n",
    "                model.train() #this trains the model\n",
    "            else:\n",
    "                model.eval() #this evaluates the model\n",
    "\n",
    "            running_loss, running_corrects = 0.0, 0 \n",
    "\n",
    "            iteration_count=0\n",
    "            total_precision=0\n",
    "            total_recall=0\n",
    "            total_f1=0\n",
    "            for inputs, labels in dataloaders[phase]:\n",
    "                inputs = inputs.to(device) #convert inputs to cpu or cuda\n",
    "                labels = labels.to(device) #convert labels to cpu or cuda\n",
    "\n",
    "                outputs = model(inputs) #outputs is inputs being fed to the model\n",
    "                loss = criterion(outputs, labels) #outputs are fed into the model\n",
    "\n",
    "                if phase == 'train':\n",
    "                    optimizer.zero_grad() #sets gradients to zero\n",
    "                    loss.backward() #computes sum of gradients\n",
    "                    optimizer.step() #preforms an optimization step\n",
    "\n",
    "                _, preds = torch.max(outputs, 1) #max elements of outputs with output dimension of one\n",
    "                running_loss += loss.item() * inputs.size(0) #loss multiplied by the first dimension of inputs\n",
    "                running_corrects += torch.sum(preds == labels.data) #sum of all the correct predictions\n",
    "\n",
    "                iteration_count+=1\n",
    "                precision_it= precision_score(labels.cpu().numpy(),preds.cpu().numpy(), average='weighted', zero_division=0)\n",
    "                recall_it= recall_score(labels.cpu().numpy(),preds.cpu().numpy(), average='weighted', zero_division=0)\n",
    "                f1_it= f1_score(labels.cpu().numpy(),preds.cpu().numpy(), average='weighted', zero_division=0)\n",
    "                total_precision+=precision_it\n",
    "                total_recall+=recall_it\n",
    "                total_f1+=f1_it\n",
    "\n",
    "            epoch_loss = running_loss / len(data_images[phase]) #this is the epoch loss\n",
    "            epoch_acc = running_corrects.double() / len(data_images[phase]) #this is the epoch accuracy\n",
    "            epoch_precision=total_precision/iteration_count\n",
    "            epoch_recall=total_recall/iteration_count\n",
    "            epoch_f1=total_f1/iteration_count\n",
    "\n",
    "            print('{} Loss: {:.3f} Acc: {:.3f} Prec: {:.3f} Recall: {:.3f} F1 {:.3f}'.format(\n",
    "                phase, epoch_loss, epoch_acc, epoch_precision, epoch_recall, epoch_f1))\n",
    "\n",
    "            if phase == 'test' and epoch_acc > best_acc:\n",
    "                best_acc = epoch_acc\n",
    "                best_precision = epoch_precision\n",
    "                best_recall = epoch_recall\n",
    "                best_f1 = epoch_f1\n",
    "\n",
    "\n",
    "    time_elapsed = time.time() - since\n",
    "    print('Training complete in {:.0f}m {:.0f}s'.format(\n",
    "        time_elapsed // 60, time_elapsed % 60))\n",
    "    print('Best test Acc: {:.3f}, Best Precision: {:.3f}, Best Recall: {:.3f}, Best F1: {:.3f}'.format(best_acc, best_precision, best_recall, best_f1))\n",
    "\n",
    "    return model"
   ]
  },
  {
   "cell_type": "code",
   "execution_count": 18,
   "metadata": {},
   "outputs": [
    {
     "name": "stdout",
     "output_type": "stream",
     "text": [
      "Epoch: 1/30\n",
      "----------\n"
     ]
    },
    {
     "name": "stderr",
     "output_type": "stream",
     "text": [
      "C:\\Users\\arnav\\AppData\\Local\\Packages\\PythonSoftwareFoundation.Python.3.8_qbz5n2kfra8p0\\LocalCache\\local-packages\\Python38\\site-packages\\torch\\nn\\functional.py:718: UserWarning: Named tensors and all their associated APIs are an experimental feature and subject to change. Please do not use them for anything important until they are released as stable. (Triggered internally at  ..\\c10/core/TensorImpl.h:1156.)\n",
      "  return torch.max_pool2d(input, kernel_size, stride, padding, dilation, ceil_mode)\n"
     ]
    },
    {
     "name": "stdout",
     "output_type": "stream",
     "text": [
      "train Loss: 0.356 Acc: 0.848 Prec: 0.866 Recall: 0.848 F1 0.838\n",
      "test Loss: 0.275 Acc: 0.918 Prec: 0.931 Recall: 0.916 F1 0.917\n",
      "Epoch: 2/30\n",
      "----------\n",
      "train Loss: 0.242 Acc: 0.896 Prec: 0.914 Recall: 0.896 F1 0.896\n",
      "test Loss: 0.587 Acc: 0.682 Prec: 0.828 Recall: 0.679 F1 0.665\n",
      "Epoch: 3/30\n",
      "----------\n",
      "train Loss: 0.227 Acc: 0.903 Prec: 0.922 Recall: 0.904 F1 0.903\n",
      "test Loss: 0.316 Acc: 0.866 Prec: 0.906 Recall: 0.864 F1 0.865\n",
      "Epoch: 4/30\n",
      "----------\n",
      "train Loss: 0.186 Acc: 0.928 Prec: 0.938 Recall: 0.928 F1 0.929\n",
      "test Loss: 0.360 Acc: 0.839 Prec: 0.888 Recall: 0.838 F1 0.837\n",
      "Epoch: 5/30\n",
      "----------\n",
      "train Loss: 0.180 Acc: 0.930 Prec: 0.940 Recall: 0.930 F1 0.930\n",
      "test Loss: 0.496 Acc: 0.757 Prec: 0.855 Recall: 0.760 F1 0.756\n",
      "Epoch: 6/30\n",
      "----------\n",
      "train Loss: 0.169 Acc: 0.935 Prec: 0.945 Recall: 0.935 F1 0.935\n",
      "test Loss: 0.217 Acc: 0.921 Prec: 0.932 Recall: 0.922 F1 0.922\n",
      "Epoch: 7/30\n",
      "----------\n",
      "train Loss: 0.175 Acc: 0.935 Prec: 0.946 Recall: 0.935 F1 0.935\n",
      "test Loss: 0.507 Acc: 0.750 Prec: 0.856 Recall: 0.751 F1 0.748\n",
      "Epoch: 8/30\n",
      "----------\n",
      "train Loss: 0.174 Acc: 0.930 Prec: 0.941 Recall: 0.930 F1 0.930\n",
      "test Loss: 0.168 Acc: 0.943 Prec: 0.947 Recall: 0.942 F1 0.943\n",
      "Epoch: 9/30\n",
      "----------\n",
      "train Loss: 0.178 Acc: 0.934 Prec: 0.946 Recall: 0.934 F1 0.934\n",
      "test Loss: 0.731 Acc: 0.651 Prec: 0.822 Recall: 0.654 F1 0.634\n",
      "Epoch: 10/30\n",
      "----------\n",
      "train Loss: 0.171 Acc: 0.938 Prec: 0.950 Recall: 0.938 F1 0.939\n",
      "test Loss: 0.324 Acc: 0.877 Prec: 0.913 Recall: 0.880 F1 0.882\n",
      "Epoch: 11/30\n",
      "----------\n",
      "train Loss: 0.156 Acc: 0.944 Prec: 0.954 Recall: 0.944 F1 0.945\n",
      "test Loss: 0.221 Acc: 0.923 Prec: 0.936 Recall: 0.925 F1 0.926\n",
      "Epoch: 12/30\n",
      "----------\n",
      "train Loss: 0.139 Acc: 0.949 Prec: 0.956 Recall: 0.949 F1 0.949\n",
      "test Loss: 0.270 Acc: 0.894 Prec: 0.919 Recall: 0.894 F1 0.895\n",
      "Epoch: 13/30\n",
      "----------\n",
      "train Loss: 0.152 Acc: 0.941 Prec: 0.951 Recall: 0.941 F1 0.941\n",
      "test Loss: 0.619 Acc: 0.705 Prec: 0.835 Recall: 0.704 F1 0.693\n",
      "Epoch: 14/30\n",
      "----------\n",
      "train Loss: 0.162 Acc: 0.935 Prec: 0.946 Recall: 0.935 F1 0.935\n",
      "test Loss: 0.362 Acc: 0.852 Prec: 0.895 Recall: 0.850 F1 0.852\n",
      "Epoch: 15/30\n",
      "----------\n",
      "train Loss: 0.139 Acc: 0.945 Prec: 0.953 Recall: 0.945 F1 0.945\n",
      "test Loss: 0.867 Acc: 0.612 Prec: 0.810 Recall: 0.611 F1 0.581\n",
      "Epoch: 16/30\n",
      "----------\n",
      "train Loss: 0.147 Acc: 0.942 Prec: 0.951 Recall: 0.942 F1 0.942\n",
      "test Loss: 0.245 Acc: 0.923 Prec: 0.937 Recall: 0.919 F1 0.921\n",
      "Epoch: 17/30\n",
      "----------\n",
      "train Loss: 0.163 Acc: 0.932 Prec: 0.944 Recall: 0.932 F1 0.932\n",
      "test Loss: 0.196 Acc: 0.930 Prec: 0.938 Recall: 0.928 F1 0.929\n",
      "Epoch: 18/30\n",
      "----------\n",
      "train Loss: 0.165 Acc: 0.936 Prec: 0.948 Recall: 0.936 F1 0.936\n",
      "test Loss: 0.597 Acc: 0.721 Prec: 0.847 Recall: 0.727 F1 0.719\n",
      "Epoch: 19/30\n",
      "----------\n",
      "train Loss: 0.148 Acc: 0.945 Prec: 0.954 Recall: 0.945 F1 0.946\n",
      "test Loss: 0.268 Acc: 0.911 Prec: 0.929 Recall: 0.911 F1 0.912\n",
      "Epoch: 20/30\n",
      "----------\n",
      "train Loss: 0.142 Acc: 0.950 Prec: 0.960 Recall: 0.950 F1 0.951\n",
      "test Loss: 0.286 Acc: 0.902 Prec: 0.926 Recall: 0.905 F1 0.906\n",
      "Epoch: 21/30\n",
      "----------\n",
      "train Loss: 0.141 Acc: 0.946 Prec: 0.956 Recall: 0.946 F1 0.946\n",
      "test Loss: 0.212 Acc: 0.925 Prec: 0.940 Recall: 0.925 F1 0.926\n",
      "Epoch: 22/30\n",
      "----------\n",
      "train Loss: 0.128 Acc: 0.950 Prec: 0.957 Recall: 0.950 F1 0.951\n",
      "test Loss: 0.186 Acc: 0.927 Prec: 0.936 Recall: 0.927 F1 0.927\n",
      "Epoch: 23/30\n",
      "----------\n",
      "train Loss: 0.142 Acc: 0.940 Prec: 0.950 Recall: 0.940 F1 0.940\n",
      "test Loss: 0.480 Acc: 0.773 Prec: 0.862 Recall: 0.772 F1 0.770\n",
      "Epoch: 24/30\n",
      "----------\n",
      "train Loss: 0.116 Acc: 0.956 Prec: 0.962 Recall: 0.956 F1 0.957\n",
      "test Loss: 0.869 Acc: 0.631 Prec: 0.813 Recall: 0.631 F1 0.603\n",
      "Epoch: 25/30\n",
      "----------\n",
      "train Loss: 0.153 Acc: 0.941 Prec: 0.950 Recall: 0.940 F1 0.941\n",
      "test Loss: 0.195 Acc: 0.932 Prec: 0.936 Recall: 0.932 F1 0.932\n",
      "Epoch: 26/30\n",
      "----------\n",
      "train Loss: 0.128 Acc: 0.950 Prec: 0.956 Recall: 0.950 F1 0.950\n",
      "test Loss: 0.393 Acc: 0.837 Prec: 0.889 Recall: 0.840 F1 0.841\n",
      "Epoch: 27/30\n",
      "----------\n",
      "train Loss: 0.140 Acc: 0.944 Prec: 0.954 Recall: 0.944 F1 0.945\n",
      "test Loss: 0.609 Acc: 0.730 Prec: 0.843 Recall: 0.728 F1 0.721\n",
      "Epoch: 28/30\n",
      "----------\n",
      "train Loss: 0.113 Acc: 0.958 Prec: 0.963 Recall: 0.958 F1 0.958\n",
      "test Loss: 0.392 Acc: 0.839 Prec: 0.890 Recall: 0.842 F1 0.843\n",
      "Epoch: 29/30\n",
      "----------\n",
      "train Loss: 0.100 Acc: 0.964 Prec: 0.968 Recall: 0.964 F1 0.964\n",
      "test Loss: 0.268 Acc: 0.912 Prec: 0.929 Recall: 0.913 F1 0.914\n",
      "Epoch: 30/30\n",
      "----------\n",
      "train Loss: 0.150 Acc: 0.944 Prec: 0.956 Recall: 0.944 F1 0.944\n",
      "test Loss: 0.236 Acc: 0.912 Prec: 0.930 Recall: 0.915 F1 0.916\n",
      "Training complete in 17m 22s\n",
      "Best test Acc: 0.943, Best Precision: 0.947, Best Recall: 0.942, Best F1: 0.943\n"
     ]
    }
   ],
   "source": [
    "model = trained_model(model, criterion, optimizer, 30)"
   ]
  },
  {
   "cell_type": "code",
   "execution_count": 19,
   "metadata": {},
   "outputs": [],
   "source": [
    "# os.mkdir('C:\\\\Users\\\\arnav\\\\Documents\\\\Arnav\\\\Research-IITR\\\\CovidX_Github_dataset\\\\data\\\\resnet50_model_data/working/models')"
   ]
  },
  {
   "cell_type": "code",
   "execution_count": 20,
   "metadata": {},
   "outputs": [
    {
     "data": {
      "text/plain": [
       "<All keys matched successfully>"
      ]
     },
     "execution_count": 20,
     "metadata": {},
     "output_type": "execute_result"
    }
   ],
   "source": [
    "torch.save(model.state_dict(), 'C:\\\\Users\\\\arnav\\\\Documents\\\\Arnav\\\\Research-IITR\\\\CovidX_Github_dataset\\\\data\\\\resnet50_model_weights/working/models/weights.h5') #save the model's weights\n",
    "model.load_state_dict(torch.load('C:\\\\Users\\\\arnav\\\\Documents\\\\Arnav\\\\Research-IITR\\\\CovidX_Github_dataset\\\\data\\\\resnet50_model_weights/working/models/weights.h5')) #load the model's weights"
   ]
  }
 ],
 "metadata": {
  "interpreter": {
   "hash": "6f9a49f1d600a10354e362afbc6f477ed4542a914b64ffa3b858051b01965c25"
  },
  "kernelspec": {
   "display_name": "Python 3.8.10 64-bit (windows store)",
   "name": "python3"
  },
  "language_info": {
   "codemirror_mode": {
    "name": "ipython",
    "version": 3
   },
   "file_extension": ".py",
   "mimetype": "text/x-python",
   "name": "python",
   "nbconvert_exporter": "python",
   "pygments_lexer": "ipython3",
   "version": "3.8.10"
  },
  "orig_nbformat": 4
 },
 "nbformat": 4,
 "nbformat_minor": 2
}
